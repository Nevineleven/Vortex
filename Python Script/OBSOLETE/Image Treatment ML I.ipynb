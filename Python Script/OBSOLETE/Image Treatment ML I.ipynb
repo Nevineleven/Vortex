{
 "cells": [
  {
   "cell_type": "code",
   "execution_count": 87,
   "metadata": {},
   "outputs": [],
   "source": [
    "from keras.preprocessing.image import ImageDataGenerator\n",
    "from keras.preprocessing import image\n",
    "import tensorflow as tf\n",
    "import matplotlib.pyplot as plt\n",
    "import cv2\n",
    "from keras.utils import to_categorical\n",
    "from keras.models import Sequential\n",
    "from keras.layers import Dense, Conv2D, MaxPool2D, Flatten, Dropout\n",
    "from tensorflow.keras import layers\n",
    "import numpy as np\n",
    "from keras.callbacks import EarlyStopping"
   ]
  },
  {
   "cell_type": "code",
   "execution_count": 88,
   "metadata": {},
   "outputs": [],
   "source": [
    "path = \"W:\\Advanced Engineering\\Vortex Ballistics\\Gel Images\\Model Training\""
   ]
  },
  {
   "cell_type": "code",
   "execution_count": 89,
   "metadata": {},
   "outputs": [
    {
     "data": {
      "text/plain": [
       "(384, 576)"
      ]
     },
     "execution_count": 89,
     "metadata": {},
     "output_type": "execute_result"
    },
    {
     "data": {
      "image/png": "[encoded data removed]",
      "text/plain": [
       "<Figure size 640x480 with 1 Axes>"
      ]
     },
     "metadata": {},
     "output_type": "display_data"
    }
   ],
   "source": [
    "file = \"W:\\Advanced Engineering\\Vortex Ballistics\\Gel Images\\Model Training/01- train\\Ring Mask\\img\\IMG_00000_flipped.jpg\"\n",
    "img = cv2.imread(file, 0)\n",
    "plt.imshow(img, cmap='gray')\n",
    "img.shape[:]"
   ]
  },
  {
   "cell_type": "code",
   "execution_count": 90,
   "metadata": {},
   "outputs": [
    {
     "name": "stdout",
     "output_type": "stream",
     "text": [
      "Found 3082 images belonging to 1 classes.\n",
      "Found 3082 images belonging to 1 classes.\n"
     ]
    }
   ],
   "source": [
    "seed = 909\n",
    "inputDataGen = ImageDataGenerator(rescale=1/255)\n",
    "outputDataGen = ImageDataGenerator(rescale=1/255)\n",
    "\n",
    "inGen = inputDataGen.flow_from_directory(path + '\\\\01- train\\\\Input', batch_size=32, class_mode=None, seed=seed, color_mode='grayscale')\n",
    "outGen = inputDataGen.flow_from_directory(path + '\\\\01- train\\\\Ring Mask', batch_size=32, class_mode=None, seed=seed, color_mode='grayscale')\n",
    "\n",
    "train_generator = zip(inGen, outGen)"
   ]
  },
  {
   "cell_type": "code",
   "execution_count": 91,
   "metadata": {},
   "outputs": [
    {
     "name": "stdout",
     "output_type": "stream",
     "text": [
      "Found 749 images belonging to 1 classes.\n"
     ]
    },
    {
     "name": "stdout",
     "output_type": "stream",
     "text": [
      "Found 749 images belonging to 1 classes.\n"
     ]
    }
   ],
   "source": [
    "inGen = inputDataGen.flow_from_directory(path + '\\\\02- test\\\\Input', batch_size=32, class_mode=None, seed=seed, color_mode='grayscale')\n",
    "outGen = inputDataGen.flow_from_directory(path + '\\\\02- test\\\\Ring Mask', batch_size=32, class_mode=None, seed=seed, color_mode=\"grayscale\")\n",
    "\n",
    "test_generator = zip(inGen, outGen)"
   ]
  },
  {
   "cell_type": "code",
   "execution_count": 92,
   "metadata": {},
   "outputs": [],
   "source": [
    "def double_conv_block(x, n_filters):\n",
    "\n",
    "    # Conv2D then ReLU activation\n",
    "    x = layers.Conv2D(n_filters, 3, padding = \"same\", activation = \"relu\", kernel_initializer = \"he_normal\")(x)\n",
    "    # Conv2D then ReLU activation\n",
    "    x = layers.Conv2D(n_filters, 3, padding = \"same\", activation = \"relu\", kernel_initializer = \"he_normal\")(x)\n",
    "\n",
    "    return x"
   ]
  },
  {
   "cell_type": "code",
   "execution_count": 93,
   "metadata": {},
   "outputs": [],
   "source": [
    "def downsample_block(x, n_filters):\n",
    "    f = double_conv_block(x, n_filters)\n",
    "    p = layers.MaxPool2D(2)(f)\n",
    "    p = layers.Dropout(0.5)(p)\n",
    "\n",
    "    return f, p"
   ]
  },
  {
   "cell_type": "code",
   "execution_count": 94,
   "metadata": {},
   "outputs": [],
   "source": [
    "def upsample_block(x, conv_features, n_filters):\n",
    "    # upsample\n",
    "    x = layers.Conv2DTranspose(n_filters, 3, 2, padding=\"same\")(x)\n",
    "    # concatenate \n",
    "    x = layers.concatenate([x, conv_features])\n",
    "    # dropout\n",
    "    x = layers.Dropout(0.5)(x)\n",
    "    # Conv2D twice with ReLU activation\n",
    "    x = double_conv_block(x, n_filters)\n",
    "\n",
    "    return x"
   ]
  },
  {
   "cell_type": "code",
   "execution_count": 95,
   "metadata": {},
   "outputs": [],
   "source": [
    "def build_unet_model():\n",
    "\n",
    "    # inputs\n",
    "    inputs = layers.Input(shape=img.shape)\n",
    "    inputs = layers.Input(shape=(img.shape[0], img.shape[1], 1))\n",
    "\n",
    "    # encoder: contracting path - downsample\n",
    "    # 1 - downsample\n",
    "    f1, p1 = downsample_block(inputs, 64)\n",
    "    # 2 - downsample\n",
    "    f2, p2 = downsample_block(p1, 128)\n",
    "    # 3 - downsample\n",
    "    f3, p3 = downsample_block(p2, 256)\n",
    "    # 4 - downsample\n",
    "    f4, p4 = downsample_block(p3, 512)\n",
    "\n",
    "    # 5 - bottleneck\n",
    "    bottleneck = double_conv_block(p4, 1024)\n",
    "\n",
    "    # decoder: expanding path - upsample\n",
    "    # 6 - upsample\n",
    "    u6 = upsample_block(bottleneck, f4, 512)\n",
    "    # 7 - upsample\n",
    "    u7 = upsample_block(u6, f3, 256)\n",
    "    # 8 - upsample\n",
    "    u8 = upsample_block(u7, f2, 128)\n",
    "    # 9 - upsample\n",
    "    u9 = upsample_block(u8, f1, 64)\n",
    "\n",
    "    # outputs\n",
    "    outputs = layers.Conv2D(1, 1, padding=\"same\", activation = \"softmax\")(u9)\n",
    "\n",
    "    # unet model with Keras Functional API\n",
    "    unet_model = tf.keras.Model(inputs, outputs, name=\"U-Net\")\n",
    "\n",
    "    return unet_model"
   ]
  },
  {
   "cell_type": "code",
   "execution_count": 96,
   "metadata": {},
   "outputs": [],
   "source": [
    "unet_model = build_unet_model()"
   ]
  },
  {
   "cell_type": "code",
   "execution_count": 97,
   "metadata": {},
   "outputs": [
    {
     "name": "stdout",
     "output_type": "stream",
     "text": [
      "Model: \"U-Net\"\n",
      "__________________________________________________________________________________________________\n",
      " Layer (type)                Output Shape                 Param #   Connected to                  \n",
      "==================================================================================================\n",
      " input_13 (InputLayer)       [(None, 384, 576, 1)]        0         []                            \n",
      "                                                                                                  \n",
      " conv2d_96 (Conv2D)          (None, 384, 576, 64)         640       ['input_13[0][0]']            \n",
      "                                                                                                  \n",
      " conv2d_97 (Conv2D)          (None, 384, 576, 64)         36928     ['conv2d_96[0][0]']           \n",
      "                                                                                                  \n",
      " max_pooling2d_20 (MaxPooli  (None, 192, 288, 64)         0         ['conv2d_97[0][0]']           \n",
      " ng2D)                                                                                            \n",
      "                                                                                                  \n",
      " dropout_40 (Dropout)        (None, 192, 288, 64)         0         ['max_pooling2d_20[0][0]']    \n",
      "                                                                                                  \n",
      " conv2d_98 (Conv2D)          (None, 192, 288, 128)        73856     ['dropout_40[0][0]']          \n",
      "                                                                                                  \n",
      " conv2d_99 (Conv2D)          (None, 192, 288, 128)        147584    ['conv2d_98[0][0]']           \n",
      "                                                                                                  \n",
      " max_pooling2d_21 (MaxPooli  (None, 96, 144, 128)         0         ['conv2d_99[0][0]']           \n",
      " ng2D)                                                                                            \n",
      "                                                                                                  \n",
      " dropout_41 (Dropout)        (None, 96, 144, 128)         0         ['max_pooling2d_21[0][0]']    \n",
      "                                                                                                  \n",
      " conv2d_100 (Conv2D)         (None, 96, 144, 256)         295168    ['dropout_41[0][0]']          \n",
      "                                                                                                  \n",
      " conv2d_101 (Conv2D)         (None, 96, 144, 256)         590080    ['conv2d_100[0][0]']          \n",
      "                                                                                                  \n",
      " max_pooling2d_22 (MaxPooli  (None, 48, 72, 256)          0         ['conv2d_101[0][0]']          \n",
      " ng2D)                                                                                            \n",
      "                                                                                                  \n",
      " dropout_42 (Dropout)        (None, 48, 72, 256)          0         ['max_pooling2d_22[0][0]']    \n",
      "                                                                                                  \n",
      " conv2d_102 (Conv2D)         (None, 48, 72, 512)          1180160   ['dropout_42[0][0]']          \n",
      "                                                                                                  \n",
      " conv2d_103 (Conv2D)         (None, 48, 72, 512)          2359808   ['conv2d_102[0][0]']          \n",
      "                                                                                                  \n",
      " max_pooling2d_23 (MaxPooli  (None, 24, 36, 512)          0         ['conv2d_103[0][0]']          \n",
      " ng2D)                                                                                            \n",
      "                                                                                                  \n",
      " dropout_43 (Dropout)        (None, 24, 36, 512)          0         ['max_pooling2d_23[0][0]']    \n",
      "                                                                                                  \n",
      " conv2d_104 (Conv2D)         (None, 24, 36, 1024)         4719616   ['dropout_43[0][0]']          \n",
      "                                                                                                  \n",
      " conv2d_105 (Conv2D)         (None, 24, 36, 1024)         9438208   ['conv2d_104[0][0]']          \n",
      "                                                                                                  \n",
      " conv2d_transpose_20 (Conv2  (None, 48, 72, 512)          4719104   ['conv2d_105[0][0]']          \n",
      " DTranspose)                                                                                      \n",
      "                                                                                                  \n",
      " concatenate_20 (Concatenat  (None, 48, 72, 1024)         0         ['conv2d_transpose_20[0][0]', \n",
      " e)                                                                  'conv2d_103[0][0]']          \n",
      "                                                                                                  \n",
      " dropout_44 (Dropout)        (None, 48, 72, 1024)         0         ['concatenate_20[0][0]']      \n",
      "                                                                                                  \n",
      " conv2d_106 (Conv2D)         (None, 48, 72, 512)          4719104   ['dropout_44[0][0]']          \n",
      "                                                                                                  \n",
      " conv2d_107 (Conv2D)         (None, 48, 72, 512)          2359808   ['conv2d_106[0][0]']          \n",
      "                                                                                                  \n",
      " conv2d_transpose_21 (Conv2  (None, 96, 144, 256)         1179904   ['conv2d_107[0][0]']          \n",
      " DTranspose)                                                                                      \n",
      "                                                                                                  \n",
      " concatenate_21 (Concatenat  (None, 96, 144, 512)         0         ['conv2d_transpose_21[0][0]', \n",
      " e)                                                                  'conv2d_101[0][0]']          \n",
      "                                                                                                  \n",
      " dropout_45 (Dropout)        (None, 96, 144, 512)         0         ['concatenate_21[0][0]']      \n",
      "                                                                                                  \n",
      " conv2d_108 (Conv2D)         (None, 96, 144, 256)         1179904   ['dropout_45[0][0]']          \n",
      "                                                                                                  \n",
      " conv2d_109 (Conv2D)         (None, 96, 144, 256)         590080    ['conv2d_108[0][0]']          \n",
      "                                                                                                  \n",
      " conv2d_transpose_22 (Conv2  (None, 192, 288, 128)        295040    ['conv2d_109[0][0]']          \n",
      " DTranspose)                                                                                      \n",
      "                                                                                                  \n",
      " concatenate_22 (Concatenat  (None, 192, 288, 256)        0         ['conv2d_transpose_22[0][0]', \n",
      " e)                                                                  'conv2d_99[0][0]']           \n",
      "                                                                                                  \n",
      " dropout_46 (Dropout)        (None, 192, 288, 256)        0         ['concatenate_22[0][0]']      \n",
      "                                                                                                  \n",
      " conv2d_110 (Conv2D)         (None, 192, 288, 128)        295040    ['dropout_46[0][0]']          \n",
      "                                                                                                  \n",
      " conv2d_111 (Conv2D)         (None, 192, 288, 128)        147584    ['conv2d_110[0][0]']          \n",
      "                                                                                                  \n",
      " conv2d_transpose_23 (Conv2  (None, 384, 576, 64)         73792     ['conv2d_111[0][0]']          \n",
      " DTranspose)                                                                                      \n",
      "                                                                                                  \n",
      " concatenate_23 (Concatenat  (None, 384, 576, 128)        0         ['conv2d_transpose_23[0][0]', \n",
      " e)                                                                  'conv2d_97[0][0]']           \n",
      "                                                                                                  \n",
      " dropout_47 (Dropout)        (None, 384, 576, 128)        0         ['concatenate_23[0][0]']      \n",
      "                                                                                                  \n",
      " conv2d_112 (Conv2D)         (None, 384, 576, 64)         73792     ['dropout_47[0][0]']          \n",
      "                                                                                                  \n",
      " conv2d_113 (Conv2D)         (None, 384, 576, 64)         36928     ['conv2d_112[0][0]']          \n",
      "                                                                                                  \n",
      " conv2d_114 (Conv2D)         (None, 384, 576, 1)          65        ['conv2d_113[0][0]']          \n",
      "                                                                                                  \n",
      "==================================================================================================\n",
      "Total params: 34512193 (131.65 MB)\n",
      "Trainable params: 34512193 (131.65 MB)\n",
      "Non-trainable params: 0 (0.00 Byte)\n",
      "__________________________________________________________________________________________________\n"
     ]
    }
   ],
   "source": [
    "unet_model.summary()"
   ]
  },
  {
   "cell_type": "code",
   "execution_count": 98,
   "metadata": {},
   "outputs": [],
   "source": [
    "unet_model.compile(optimizer=tf.keras.optimizers.Adam(learning_rate=1e-6),\n",
    "                   loss=tf.keras.losses.BinaryCrossentropy(from_logits=False),\n",
    "                   #loss = 'mse',\n",
    "                   metrics=[\"accuracy\"])\n",
    "\n",
    "es = EarlyStopping(monitor='val_loss', mode='min', patience=3, verbose=1, restore_best_weights=True)"
   ]
  },
  {
   "cell_type": "code",
   "execution_count": 99,
   "metadata": {},
   "outputs": [],
   "source": [
    "class DisplayCallback(tf.keras.callbacks.Callback):\n",
    "  def on_epoch_end(self, epoch, logs=None):\n",
    "    clear_output(wait=True)\n",
    "    show_predictions()\n",
    "    print ('\\nSample Prediction after epoch {}\\n'.format(epoch+1))"
   ]
  },
  {
   "cell_type": "code",
   "execution_count": 100,
   "metadata": {},
   "outputs": [
    {
     "name": "stdout",
     "output_type": "stream",
     "text": [
      "Epoch 1/205\n",
      "13/13 [==============================] - 443s 34s/step - loss: 0.6457 - accuracy: 0.0168 - val_loss: 0.6946 - val_accuracy: 0.0169\n",
      "Epoch 2/205\n",
      "13/13 [==============================] - 424s 33s/step - loss: 0.6266 - accuracy: 0.0169 - val_loss: 0.6908 - val_accuracy: 0.0164\n",
      "Epoch 3/205\n",
      "13/13 [==============================] - 432s 34s/step - loss: 0.6041 - accuracy: 0.0172 - val_loss: 0.6847 - val_accuracy: 0.0160\n",
      "Epoch 4/205\n",
      "13/13 [==============================] - 428s 33s/step - loss: 0.5736 - accuracy: 0.0167 - val_loss: 0.6765 - val_accuracy: 0.0174\n",
      "Epoch 5/205\n",
      "13/13 [==============================] - 425s 33s/step - loss: 0.5376 - accuracy: 0.0169 - val_loss: 0.6666 - val_accuracy: 0.0165\n",
      "Epoch 6/205\n",
      "13/13 [==============================] - 407s 31s/step - loss: 0.5034 - accuracy: 0.0168 - val_loss: 0.6536 - val_accuracy: 0.0166\n",
      "Epoch 7/205\n",
      "13/13 [==============================] - 404s 31s/step - loss: 0.4656 - accuracy: 0.0168 - val_loss: 0.6331 - val_accuracy: 0.0165\n",
      "Epoch 8/205\n",
      "13/13 [==============================] - 385s 30s/step - loss: 0.4304 - accuracy: 0.0168 - val_loss: 0.6157 - val_accuracy: 0.0165\n",
      "Epoch 9/205\n",
      "13/13 [==============================] - 419s 33s/step - loss: 0.4051 - accuracy: 0.0168 - val_loss: 0.5953 - val_accuracy: 0.0163\n",
      "Epoch 10/205\n",
      "13/13 [==============================] - 440s 34s/step - loss: 0.3948 - accuracy: 0.0171 - val_loss: 0.5853 - val_accuracy: 0.0168\n",
      "Epoch 11/205\n",
      "13/13 [==============================] - 445s 34s/step - loss: 0.3795 - accuracy: 0.0169 - val_loss: 0.5807 - val_accuracy: 0.0162\n",
      "Epoch 12/205\n",
      "13/13 [==============================] - 449s 35s/step - loss: 0.3678 - accuracy: 0.0168 - val_loss: 0.5772 - val_accuracy: 0.0167\n",
      "Epoch 13/205\n",
      "13/13 [==============================] - 456s 35s/step - loss: 0.3570 - accuracy: 0.0167 - val_loss: 0.5768 - val_accuracy: 0.0169\n",
      "Epoch 14/205\n",
      "13/13 [==============================] - 444s 34s/step - loss: 0.3543 - accuracy: 0.0170 - val_loss: 0.5764 - val_accuracy: 0.0167\n",
      "Epoch 15/205\n",
      "13/13 [==============================] - 454s 35s/step - loss: 0.3470 - accuracy: 0.0167 - val_loss: 0.5746 - val_accuracy: 0.0169\n",
      "Epoch 16/205\n",
      "13/13 [==============================] - 457s 35s/step - loss: 0.3453 - accuracy: 0.0173 - val_loss: 0.5736 - val_accuracy: 0.0167\n",
      "Epoch 17/205\n",
      "13/13 [==============================] - 470s 36s/step - loss: 0.3344 - accuracy: 0.0170 - val_loss: 0.5768 - val_accuracy: 0.0168\n",
      "Epoch 18/205\n",
      "13/13 [==============================] - 459s 35s/step - loss: 0.3275 - accuracy: 0.0166 - val_loss: 0.5751 - val_accuracy: 0.0163\n",
      "Epoch 19/205\n",
      "13/13 [==============================] - 417s 32s/step - loss: 0.3190 - accuracy: 0.0168 - val_loss: 0.5769 - val_accuracy: 0.0170\n",
      "Epoch 20/205\n",
      "13/13 [==============================] - 404s 31s/step - loss: 0.3149 - accuracy: 0.0170 - val_loss: 0.5772 - val_accuracy: 0.0166\n",
      "Epoch 21/205\n",
      "13/13 [==============================] - 397s 31s/step - loss: 0.3068 - accuracy: 0.0168 - val_loss: 0.5797 - val_accuracy: 0.0163\n",
      "Epoch 22/205\n",
      "13/13 [==============================] - 402s 31s/step - loss: 0.3019 - accuracy: 0.0166 - val_loss: 0.5804 - val_accuracy: 0.0165\n",
      "Epoch 23/205\n",
      "13/13 [==============================] - 424s 33s/step - loss: 0.2923 - accuracy: 0.0168 - val_loss: 0.5817 - val_accuracy: 0.0166\n",
      "Epoch 24/205\n",
      "13/13 [==============================] - 503s 39s/step - loss: 0.2897 - accuracy: 0.0171 - val_loss: 0.5820 - val_accuracy: 0.0170\n",
      "Epoch 25/205\n",
      "13/13 [==============================] - 434s 33s/step - loss: 0.2777 - accuracy: 0.0166 - val_loss: 0.5815 - val_accuracy: 0.0162\n",
      "Epoch 26/205\n",
      "13/13 [==============================] - 432s 34s/step - loss: 0.2692 - accuracy: 0.0171 - val_loss: 0.5818 - val_accuracy: 0.0169\n",
      "Epoch 27/205\n",
      "13/13 [==============================] - 455s 35s/step - loss: 0.2641 - accuracy: 0.0173 - val_loss: 0.5842 - val_accuracy: 0.0163\n",
      "Epoch 28/205\n",
      "13/13 [==============================] - 472s 37s/step - loss: 0.2480 - accuracy: 0.0167 - val_loss: 0.5835 - val_accuracy: 0.0168\n",
      "Epoch 29/205\n",
      "13/13 [==============================] - 473s 37s/step - loss: 0.2379 - accuracy: 0.0169 - val_loss: 0.5815 - val_accuracy: 0.0169\n",
      "Epoch 30/205\n",
      "13/13 [==============================] - 420s 32s/step - loss: 0.2241 - accuracy: 0.0166 - val_loss: 0.5807 - val_accuracy: 0.0164\n",
      "Epoch 31/205\n",
      "13/13 [==============================] - 412s 32s/step - loss: 0.2117 - accuracy: 0.0168 - val_loss: 0.5733 - val_accuracy: 0.0165\n",
      "Epoch 32/205\n",
      "13/13 [==============================] - 411s 32s/step - loss: 0.1995 - accuracy: 0.0167 - val_loss: 0.5652 - val_accuracy: 0.0168\n",
      "Epoch 33/205\n",
      "13/13 [==============================] - 420s 33s/step - loss: 0.1900 - accuracy: 0.0171 - val_loss: 0.5632 - val_accuracy: 0.0162\n",
      "Epoch 34/205\n",
      "13/13 [==============================] - 404s 31s/step - loss: 0.1742 - accuracy: 0.0169 - val_loss: 0.5600 - val_accuracy: 0.0165\n",
      "Epoch 35/205\n",
      "13/13 [==============================] - 401s 31s/step - loss: 0.1610 - accuracy: 0.0167 - val_loss: 0.5514 - val_accuracy: 0.0160\n",
      "Epoch 36/205\n",
      "13/13 [==============================] - 440s 34s/step - loss: 0.1482 - accuracy: 0.0165 - val_loss: 0.5267 - val_accuracy: 0.0168\n",
      "Epoch 37/205\n",
      "13/13 [==============================] - 470s 37s/step - loss: 0.1405 - accuracy: 0.0172 - val_loss: 0.5240 - val_accuracy: 0.0170\n",
      "Epoch 38/205\n",
      "13/13 [==============================] - 425s 33s/step - loss: 0.1311 - accuracy: 0.0172 - val_loss: 0.5095 - val_accuracy: 0.0168\n",
      "Epoch 39/205\n",
      "13/13 [==============================] - 466s 36s/step - loss: 0.1183 - accuracy: 0.0166 - val_loss: 0.4914 - val_accuracy: 0.0161\n",
      "Epoch 40/205\n",
      "13/13 [==============================] - 442s 34s/step - loss: 0.1123 - accuracy: 0.0171 - val_loss: 0.4754 - val_accuracy: 0.0172\n",
      "Epoch 41/205\n",
      "13/13 [==============================] - 460s 36s/step - loss: 0.1056 - accuracy: 0.0170 - val_loss: 0.4656 - val_accuracy: 0.0165\n",
      "Epoch 42/205\n",
      "13/13 [==============================] - 421s 32s/step - loss: 0.0996 - accuracy: 0.0167 - val_loss: 0.4636 - val_accuracy: 0.0170\n",
      "Epoch 43/205\n",
      "13/13 [==============================] - 432s 34s/step - loss: 0.0930 - accuracy: 0.0168 - val_loss: 0.4438 - val_accuracy: 0.0167\n",
      "Epoch 44/205\n",
      "13/13 [==============================] - 501s 39s/step - loss: 0.0884 - accuracy: 0.0168 - val_loss: 0.4226 - val_accuracy: 0.0166\n",
      "Epoch 45/205\n",
      "13/13 [==============================] - 507s 39s/step - loss: 0.0862 - accuracy: 0.0170 - val_loss: 0.4149 - val_accuracy: 0.0167\n",
      "Epoch 46/205\n",
      "13/13 [==============================] - 493s 38s/step - loss: 0.0819 - accuracy: 0.0167 - val_loss: 0.4069 - val_accuracy: 0.0172\n",
      "Epoch 47/205\n",
      "13/13 [==============================] - 439s 34s/step - loss: 0.0783 - accuracy: 0.0169 - val_loss: 0.4142 - val_accuracy: 0.0162\n",
      "Epoch 48/205\n",
      "13/13 [==============================] - 460s 36s/step - loss: 0.0751 - accuracy: 0.0167 - val_loss: 0.3885 - val_accuracy: 0.0170\n",
      "Epoch 49/205\n",
      "13/13 [==============================] - 450s 35s/step - loss: 0.0728 - accuracy: 0.0168 - val_loss: 0.3868 - val_accuracy: 0.0168\n",
      "Epoch 50/205\n",
      "13/13 [==============================] - 407s 31s/step - loss: 0.0711 - accuracy: 0.0166 - val_loss: 0.3758 - val_accuracy: 0.0162\n",
      "Epoch 51/205\n",
      "13/13 [==============================] - 435s 34s/step - loss: 0.0701 - accuracy: 0.0171 - val_loss: 0.3756 - val_accuracy: 0.0167\n",
      "Epoch 52/205\n",
      "13/13 [==============================] - 425s 33s/step - loss: 0.0687 - accuracy: 0.0173 - val_loss: 0.3754 - val_accuracy: 0.0163\n",
      "Epoch 53/205\n",
      "13/13 [==============================] - 408s 32s/step - loss: 0.0667 - accuracy: 0.0170 - val_loss: 0.3515 - val_accuracy: 0.0168\n",
      "Epoch 54/205\n",
      "13/13 [==============================] - 449s 35s/step - loss: 0.0672 - accuracy: 0.0169 - val_loss: 0.3668 - val_accuracy: 0.0168\n",
      "Epoch 55/205\n",
      "13/13 [==============================] - 472s 37s/step - loss: 0.0654 - accuracy: 0.0166 - val_loss: 0.3432 - val_accuracy: 0.0163\n",
      "Epoch 56/205\n",
      "13/13 [==============================] - 432s 33s/step - loss: 0.0626 - accuracy: 0.0167 - val_loss: 0.3456 - val_accuracy: 0.0169\n",
      "Epoch 57/205\n",
      "13/13 [==============================] - 418s 32s/step - loss: 0.0617 - accuracy: 0.0169 - val_loss: 0.3357 - val_accuracy: 0.0170\n",
      "Epoch 58/205\n",
      "13/13 [==============================] - 417s 32s/step - loss: 0.0611 - accuracy: 0.0170 - val_loss: 0.3469 - val_accuracy: 0.0164\n",
      "Epoch 59/205\n",
      "13/13 [==============================] - 414s 32s/step - loss: 0.0600 - accuracy: 0.0169 - val_loss: 0.3196 - val_accuracy: 0.0167\n",
      "Epoch 60/205\n",
      "13/13 [==============================] - 397s 31s/step - loss: 0.0598 - accuracy: 0.0170 - val_loss: 0.3313 - val_accuracy: 0.0166\n",
      "Epoch 61/205\n",
      "13/13 [==============================] - 417s 32s/step - loss: 0.0579 - accuracy: 0.0165 - val_loss: 0.3132 - val_accuracy: 0.0170\n",
      "Epoch 62/205\n",
      "13/13 [==============================] - 413s 32s/step - loss: 0.0570 - accuracy: 0.0166 - val_loss: 0.3190 - val_accuracy: 0.0163\n",
      "Epoch 63/205\n",
      "13/13 [==============================] - 417s 32s/step - loss: 0.0574 - accuracy: 0.0167 - val_loss: 0.3180 - val_accuracy: 0.0164\n",
      "Epoch 64/205\n",
      "13/13 [==============================] - 417s 32s/step - loss: 0.0571 - accuracy: 0.0169 - val_loss: 0.3083 - val_accuracy: 0.0164\n",
      "Epoch 65/205\n",
      "13/13 [==============================] - 419s 32s/step - loss: 0.0564 - accuracy: 0.0170 - val_loss: 0.3182 - val_accuracy: 0.0166\n",
      "Epoch 66/205\n",
      "13/13 [==============================] - 425s 33s/step - loss: 0.0559 - accuracy: 0.0173 - val_loss: 0.3191 - val_accuracy: 0.0165\n",
      "Epoch 67/205\n",
      "13/13 [==============================] - 429s 33s/step - loss: 0.0570 - accuracy: 0.0170 - val_loss: 0.3047 - val_accuracy: 0.0168\n",
      "Epoch 68/205\n",
      "13/13 [==============================] - 409s 32s/step - loss: 0.0545 - accuracy: 0.0170 - val_loss: 0.3072 - val_accuracy: 0.0163\n",
      "Epoch 69/205\n",
      "13/13 [==============================] - 413s 32s/step - loss: 0.0542 - accuracy: 0.0167 - val_loss: 0.3019 - val_accuracy: 0.0162\n",
      "Epoch 70/205\n",
      "13/13 [==============================] - 417s 32s/step - loss: 0.0524 - accuracy: 0.0166 - val_loss: 0.3037 - val_accuracy: 0.0174\n",
      "Epoch 71/205\n",
      "13/13 [==============================] - 420s 33s/step - loss: 0.0523 - accuracy: 0.0165 - val_loss: 0.2863 - val_accuracy: 0.0164\n",
      "Epoch 72/205\n",
      "13/13 [==============================] - 417s 32s/step - loss: 0.0514 - accuracy: 0.0168 - val_loss: 0.3019 - val_accuracy: 0.0159\n",
      "Epoch 73/205\n",
      "13/13 [==============================] - 416s 32s/step - loss: 0.0528 - accuracy: 0.0171 - val_loss: 0.2917 - val_accuracy: 0.0168\n",
      "Epoch 74/205\n",
      "13/13 [==============================] - 416s 32s/step - loss: 0.0508 - accuracy: 0.0170 - val_loss: 0.2943 - val_accuracy: 0.0163\n",
      "Epoch 75/205\n",
      "13/13 [==============================] - 399s 31s/step - loss: 0.0518 - accuracy: 0.0173 - val_loss: 0.2940 - val_accuracy: 0.0163\n",
      "Epoch 76/205\n",
      "13/13 [==============================] - 412s 32s/step - loss: 0.0498 - accuracy: 0.0167 - val_loss: 0.2779 - val_accuracy: 0.0173\n",
      "Epoch 77/205\n",
      "13/13 [==============================] - 416s 32s/step - loss: 0.0497 - accuracy: 0.0167 - val_loss: 0.2856 - val_accuracy: 0.0171\n",
      "Epoch 78/205\n",
      "13/13 [==============================] - 416s 32s/step - loss: 0.0507 - accuracy: 0.0173 - val_loss: 0.2846 - val_accuracy: 0.0166\n",
      "Epoch 79/205\n",
      "13/13 [==============================] - 416s 32s/step - loss: 0.0490 - accuracy: 0.0166 - val_loss: 0.2734 - val_accuracy: 0.0163\n",
      "Epoch 80/205\n",
      "13/13 [==============================] - 418s 32s/step - loss: 0.0467 - accuracy: 0.0164 - val_loss: 0.2744 - val_accuracy: 0.0165\n",
      "Epoch 81/205\n",
      "13/13 [==============================] - 417s 32s/step - loss: 0.0487 - accuracy: 0.0171 - val_loss: 0.2814 - val_accuracy: 0.0162\n",
      "Epoch 82/205\n",
      "13/13 [==============================] - 418s 32s/step - loss: 0.0473 - accuracy: 0.0171 - val_loss: 0.2725 - val_accuracy: 0.0168\n",
      "Epoch 83/205\n",
      "13/13 [==============================] - 394s 32s/step - loss: 0.0477 - accuracy: 0.0167 - val_loss: 0.2735 - val_accuracy: 0.0164\n",
      "Epoch 84/205\n",
      "13/13 [==============================] - 418s 32s/step - loss: 0.0463 - accuracy: 0.0168 - val_loss: 0.2713 - val_accuracy: 0.0167\n",
      "Epoch 85/205\n",
      "13/13 [==============================] - 418s 32s/step - loss: 0.0473 - accuracy: 0.0167 - val_loss: 0.2784 - val_accuracy: 0.0170\n",
      "Epoch 86/205\n",
      "13/13 [==============================] - 413s 32s/step - loss: 0.0454 - accuracy: 0.0170 - val_loss: 0.2606 - val_accuracy: 0.0165\n",
      "Epoch 87/205\n",
      "13/13 [==============================] - 418s 32s/step - loss: 0.0447 - accuracy: 0.0172 - val_loss: 0.2738 - val_accuracy: 0.0167\n",
      "Epoch 88/205\n",
      "13/13 [==============================] - 416s 32s/step - loss: 0.0462 - accuracy: 0.0170 - val_loss: 0.2685 - val_accuracy: 0.0164\n",
      "Epoch 89/205\n",
      "13/13 [==============================] - 418s 32s/step - loss: 0.0451 - accuracy: 0.0168 - val_loss: 0.2659 - val_accuracy: 0.0161\n",
      "Epoch 90/205\n",
      "13/13 [==============================] - 392s 30s/step - loss: 0.0436 - accuracy: 0.0170 - val_loss: 0.2547 - val_accuracy: 0.0165\n",
      "Epoch 91/205\n",
      "13/13 [==============================] - 419s 33s/step - loss: 0.0435 - accuracy: 0.0167 - val_loss: 0.2634 - val_accuracy: 0.0168\n",
      "Epoch 92/205\n",
      "13/13 [==============================] - 417s 32s/step - loss: 0.0455 - accuracy: 0.0171 - val_loss: 0.2657 - val_accuracy: 0.0165\n",
      "Epoch 93/205\n",
      "13/13 [==============================] - 413s 32s/step - loss: 0.0442 - accuracy: 0.0167 - val_loss: 0.2539 - val_accuracy: 0.0164\n",
      "Epoch 94/205\n",
      "13/13 [==============================] - 417s 32s/step - loss: 0.0428 - accuracy: 0.0170 - val_loss: 0.2655 - val_accuracy: 0.0161\n",
      "Epoch 95/205\n",
      "13/13 [==============================] - 417s 32s/step - loss: 0.0425 - accuracy: 0.0168 - val_loss: 0.2472 - val_accuracy: 0.0173\n",
      "Epoch 96/205\n",
      "13/13 [==============================] - 420s 33s/step - loss: 0.0423 - accuracy: 0.0171 - val_loss: 0.2589 - val_accuracy: 0.0169\n",
      "Epoch 97/205\n",
      "13/13 [==============================] - 398s 31s/step - loss: 0.0419 - accuracy: 0.0166 - val_loss: 0.2499 - val_accuracy: 0.0163\n",
      "Epoch 98/205\n",
      "13/13 [==============================] - 418s 32s/step - loss: 0.0414 - accuracy: 0.0170 - val_loss: 0.2579 - val_accuracy: 0.0166\n",
      "Epoch 99/205\n",
      "13/13 [==============================] - 416s 32s/step - loss: 0.0430 - accuracy: 0.0163 - val_loss: 0.2390 - val_accuracy: 0.0173\n",
      "Epoch 100/205\n",
      "13/13 [==============================] - 412s 32s/step - loss: 0.0402 - accuracy: 0.0168 - val_loss: 0.2597 - val_accuracy: 0.0154\n",
      "Epoch 101/205\n",
      "13/13 [==============================] - 417s 32s/step - loss: 0.0407 - accuracy: 0.0170 - val_loss: 0.2456 - val_accuracy: 0.0163\n",
      "Epoch 102/205\n",
      "13/13 [==============================] - 416s 32s/step - loss: 0.0397 - accuracy: 0.0167 - val_loss: 0.2305 - val_accuracy: 0.0168\n",
      "Epoch 103/205\n",
      "13/13 [==============================] - 419s 33s/step - loss: 0.0406 - accuracy: 0.0171 - val_loss: 0.2465 - val_accuracy: 0.0168\n",
      "Epoch 104/205\n",
      "13/13 [==============================] - 429s 33s/step - loss: 0.0400 - accuracy: 0.0171 - val_loss: 0.2313 - val_accuracy: 0.0172\n",
      "Epoch 105/205\n",
      "13/13 [==============================] - 409s 32s/step - loss: 0.0404 - accuracy: 0.0170 - val_loss: 0.2417 - val_accuracy: 0.0165\n",
      "Epoch 106/205\n",
      "13/13 [==============================] - 428s 33s/step - loss: 0.0383 - accuracy: 0.0170 - val_loss: 0.2345 - val_accuracy: 0.0168\n",
      "Epoch 107/205\n",
      " 4/13 [========>.....................] - ETA: 4:28 - loss: 0.0388 - accuracy: 0.0168"
     ]
    },
    {
     "ename": "UnknownError",
     "evalue": "Graph execution error:\n\nFileNotFoundError: [Errno 2] No such file or directory: 'W:\\\\Advanced Engineering\\\\Vortex Ballistics\\\\Gel Images\\\\Model Training\\\\01- train\\\\Input\\\\img\\\\IMG_00183_flipped.jpg'\nTraceback (most recent call last):\n\n  File \"C:\\Users\\naresh\\AppData\\Local\\Packages\\PythonSoftwareFoundation.Python.3.11_qbz5n2kfra8p0\\LocalCache\\local-packages\\Python311\\site-packages\\tensorflow\\python\\ops\\script_ops.py\", line 268, in __call__\n    ret = func(*args)\n          ^^^^^^^^^^^\n\n  File \"C:\\Users\\naresh\\AppData\\Local\\Packages\\PythonSoftwareFoundation.Python.3.11_qbz5n2kfra8p0\\LocalCache\\local-packages\\Python311\\site-packages\\tensorflow\\python\\autograph\\impl\\api.py\", line 643, in wrapper\n    return func(*args, **kwargs)\n           ^^^^^^^^^^^^^^^^^^^^^\n\n  File \"C:\\Users\\naresh\\AppData\\Local\\Packages\\PythonSoftwareFoundation.Python.3.11_qbz5n2kfra8p0\\LocalCache\\local-packages\\Python311\\site-packages\\tensorflow\\python\\data\\ops\\from_generator_op.py\", line 198, in generator_py_func\n    values = next(generator_state.get_iterator(iterator_id))\n             ^^^^^^^^^^^^^^^^^^^^^^^^^^^^^^^^^^^^^^^^^^^^^^^\n\n  File \"C:\\Users\\naresh\\AppData\\Local\\Packages\\PythonSoftwareFoundation.Python.3.11_qbz5n2kfra8p0\\LocalCache\\local-packages\\Python311\\site-packages\\keras\\src\\engine\\data_adapter.py\", line 917, in wrapped_generator\n    for data in generator_fn():\n\n  File \"C:\\Users\\naresh\\AppData\\Local\\Packages\\PythonSoftwareFoundation.Python.3.11_qbz5n2kfra8p0\\LocalCache\\local-packages\\Python311\\site-packages\\keras\\src\\preprocessing\\image.py\", line 156, in __next__\n    return self.next(*args, **kwargs)\n           ^^^^^^^^^^^^^^^^^^^^^^^^^^\n\n  File \"C:\\Users\\naresh\\AppData\\Local\\Packages\\PythonSoftwareFoundation.Python.3.11_qbz5n2kfra8p0\\LocalCache\\local-packages\\Python311\\site-packages\\keras\\src\\preprocessing\\image.py\", line 168, in next\n    return self._get_batches_of_transformed_samples(index_array)\n           ^^^^^^^^^^^^^^^^^^^^^^^^^^^^^^^^^^^^^^^^^^^^^^^^^^^^^\n\n  File \"C:\\Users\\naresh\\AppData\\Local\\Packages\\PythonSoftwareFoundation.Python.3.11_qbz5n2kfra8p0\\LocalCache\\local-packages\\Python311\\site-packages\\keras\\src\\preprocessing\\image.py\", line 370, in _get_batches_of_transformed_samples\n    img = image_utils.load_img(\n          ^^^^^^^^^^^^^^^^^^^^^\n\n  File \"C:\\Users\\naresh\\AppData\\Local\\Packages\\PythonSoftwareFoundation.Python.3.11_qbz5n2kfra8p0\\LocalCache\\local-packages\\Python311\\site-packages\\keras\\src\\utils\\image_utils.py\", line 422, in load_img\n    with open(path, \"rb\") as f:\n         ^^^^^^^^^^^^^^^^\n\nFileNotFoundError: [Errno 2] No such file or directory: 'W:\\\\Advanced Engineering\\\\Vortex Ballistics\\\\Gel Images\\\\Model Training\\\\01- train\\\\Input\\\\img\\\\IMG_00183_flipped.jpg'\n\n\n\t [[{{node PyFunc}}]]\n\t [[IteratorGetNext]] [Op:__inference_train_function_27883]",
     "output_type": "error",
     "traceback": [
      "\u001b[1;31m---------------------------------------------------------------------------\u001b[0m",
      "\u001b[1;31mUnknownError\u001b[0m                              Traceback (most recent call last)",
      "\u001b[1;32mw:\\Advanced Engineering\\Vortex Ballistics\\~ACTIVE\\Python Script\\Image Treatment ML.ipynb Cell 14\u001b[0m line \u001b[0;36m1\n\u001b[0;32m     <a href='vscode-notebook-cell:/w%3A/Advanced%20Engineering/Vortex%20Ballistics/~ACTIVE/Python%20Script/Image%20Treatment%20ML.ipynb#X16sZmlsZQ%3D%3D?line=10'>11</a>\u001b[0m \u001b[39m#VALIDATION_STEPS = TEST_LENTH // BATCH_SIZE // VAL_SUBSPLITS\u001b[39;00m\n\u001b[0;32m     <a href='vscode-notebook-cell:/w%3A/Advanced%20Engineering/Vortex%20Ballistics/~ACTIVE/Python%20Script/Image%20Treatment%20ML.ipynb#X16sZmlsZQ%3D%3D?line=11'>12</a>\u001b[0m VALIDATION_STEPS \u001b[39m=\u001b[39m \u001b[39m5\u001b[39m\n\u001b[1;32m---> <a href='vscode-notebook-cell:/w%3A/Advanced%20Engineering/Vortex%20Ballistics/~ACTIVE/Python%20Script/Image%20Treatment%20ML.ipynb#X16sZmlsZQ%3D%3D?line=13'>14</a>\u001b[0m model_history \u001b[39m=\u001b[39m unet_model\u001b[39m.\u001b[39;49mfit(train_generator,\n\u001b[0;32m     <a href='vscode-notebook-cell:/w%3A/Advanced%20Engineering/Vortex%20Ballistics/~ACTIVE/Python%20Script/Image%20Treatment%20ML.ipynb#X16sZmlsZQ%3D%3D?line=14'>15</a>\u001b[0m                                epochs\u001b[39m=\u001b[39;49mNUM_EPOCHS,\n\u001b[0;32m     <a href='vscode-notebook-cell:/w%3A/Advanced%20Engineering/Vortex%20Ballistics/~ACTIVE/Python%20Script/Image%20Treatment%20ML.ipynb#X16sZmlsZQ%3D%3D?line=15'>16</a>\u001b[0m                                steps_per_epoch\u001b[39m=\u001b[39;49mSTEPS_PER_EPOCH,\n\u001b[0;32m     <a href='vscode-notebook-cell:/w%3A/Advanced%20Engineering/Vortex%20Ballistics/~ACTIVE/Python%20Script/Image%20Treatment%20ML.ipynb#X16sZmlsZQ%3D%3D?line=16'>17</a>\u001b[0m                                validation_steps\u001b[39m=\u001b[39;49mVALIDATION_STEPS,\n\u001b[0;32m     <a href='vscode-notebook-cell:/w%3A/Advanced%20Engineering/Vortex%20Ballistics/~ACTIVE/Python%20Script/Image%20Treatment%20ML.ipynb#X16sZmlsZQ%3D%3D?line=17'>18</a>\u001b[0m                                validation_data\u001b[39m=\u001b[39;49mtest_generator,\n\u001b[0;32m     <a href='vscode-notebook-cell:/w%3A/Advanced%20Engineering/Vortex%20Ballistics/~ACTIVE/Python%20Script/Image%20Treatment%20ML.ipynb#X16sZmlsZQ%3D%3D?line=18'>19</a>\u001b[0m                                \u001b[39m#callbacks=[es]\u001b[39;49;00m\n\u001b[0;32m     <a href='vscode-notebook-cell:/w%3A/Advanced%20Engineering/Vortex%20Ballistics/~ACTIVE/Python%20Script/Image%20Treatment%20ML.ipynb#X16sZmlsZQ%3D%3D?line=19'>20</a>\u001b[0m                                )\n",
      "File \u001b[1;32m~\\AppData\\Local\\Packages\\PythonSoftwareFoundation.Python.3.11_qbz5n2kfra8p0\\LocalCache\\local-packages\\Python311\\site-packages\\keras\\src\\utils\\traceback_utils.py:70\u001b[0m, in \u001b[0;36mfilter_traceback.<locals>.error_handler\u001b[1;34m(*args, **kwargs)\u001b[0m\n\u001b[0;32m     67\u001b[0m     filtered_tb \u001b[39m=\u001b[39m _process_traceback_frames(e\u001b[39m.\u001b[39m__traceback__)\n\u001b[0;32m     68\u001b[0m     \u001b[39m# To get the full stack trace, call:\u001b[39;00m\n\u001b[0;32m     69\u001b[0m     \u001b[39m# `tf.debugging.disable_traceback_filtering()`\u001b[39;00m\n\u001b[1;32m---> 70\u001b[0m     \u001b[39mraise\u001b[39;00m e\u001b[39m.\u001b[39mwith_traceback(filtered_tb) \u001b[39mfrom\u001b[39;00m \u001b[39mNone\u001b[39;00m\n\u001b[0;32m     71\u001b[0m \u001b[39mfinally\u001b[39;00m:\n\u001b[0;32m     72\u001b[0m     \u001b[39mdel\u001b[39;00m filtered_tb\n",
      "File \u001b[1;32m~\\AppData\\Local\\Packages\\PythonSoftwareFoundation.Python.3.11_qbz5n2kfra8p0\\LocalCache\\local-packages\\Python311\\site-packages\\tensorflow\\python\\eager\\execute.py:53\u001b[0m, in \u001b[0;36mquick_execute\u001b[1;34m(op_name, num_outputs, inputs, attrs, ctx, name)\u001b[0m\n\u001b[0;32m     51\u001b[0m \u001b[39mtry\u001b[39;00m:\n\u001b[0;32m     52\u001b[0m   ctx\u001b[39m.\u001b[39mensure_initialized()\n\u001b[1;32m---> 53\u001b[0m   tensors \u001b[39m=\u001b[39m pywrap_tfe\u001b[39m.\u001b[39mTFE_Py_Execute(ctx\u001b[39m.\u001b[39m_handle, device_name, op_name,\n\u001b[0;32m     54\u001b[0m                                       inputs, attrs, num_outputs)\n\u001b[0;32m     55\u001b[0m \u001b[39mexcept\u001b[39;00m core\u001b[39m.\u001b[39m_NotOkStatusException \u001b[39mas\u001b[39;00m e:\n\u001b[0;32m     56\u001b[0m   \u001b[39mif\u001b[39;00m name \u001b[39mis\u001b[39;00m \u001b[39mnot\u001b[39;00m \u001b[39mNone\u001b[39;00m:\n",
      "\u001b[1;31mUnknownError\u001b[0m: Graph execution error:\n\nFileNotFoundError: [Errno 2] No such file or directory: 'W:\\\\Advanced Engineering\\\\Vortex Ballistics\\\\Gel Images\\\\Model Training\\\\01- train\\\\Input\\\\img\\\\IMG_00183_flipped.jpg'\nTraceback (most recent call last):\n\n  File \"C:\\Users\\naresh\\AppData\\Local\\Packages\\PythonSoftwareFoundation.Python.3.11_qbz5n2kfra8p0\\LocalCache\\local-packages\\Python311\\site-packages\\tensorflow\\python\\ops\\script_ops.py\", line 268, in __call__\n    ret = func(*args)\n          ^^^^^^^^^^^\n\n  File \"C:\\Users\\naresh\\AppData\\Local\\Packages\\PythonSoftwareFoundation.Python.3.11_qbz5n2kfra8p0\\LocalCache\\local-packages\\Python311\\site-packages\\tensorflow\\python\\autograph\\impl\\api.py\", line 643, in wrapper\n    return func(*args, **kwargs)\n           ^^^^^^^^^^^^^^^^^^^^^\n\n  File \"C:\\Users\\naresh\\AppData\\Local\\Packages\\PythonSoftwareFoundation.Python.3.11_qbz5n2kfra8p0\\LocalCache\\local-packages\\Python311\\site-packages\\tensorflow\\python\\data\\ops\\from_generator_op.py\", line 198, in generator_py_func\n    values = next(generator_state.get_iterator(iterator_id))\n             ^^^^^^^^^^^^^^^^^^^^^^^^^^^^^^^^^^^^^^^^^^^^^^^\n\n  File \"C:\\Users\\naresh\\AppData\\Local\\Packages\\PythonSoftwareFoundation.Python.3.11_qbz5n2kfra8p0\\LocalCache\\local-packages\\Python311\\site-packages\\keras\\src\\engine\\data_adapter.py\", line 917, in wrapped_generator\n    for data in generator_fn():\n\n  File \"C:\\Users\\naresh\\AppData\\Local\\Packages\\PythonSoftwareFoundation.Python.3.11_qbz5n2kfra8p0\\LocalCache\\local-packages\\Python311\\site-packages\\keras\\src\\preprocessing\\image.py\", line 156, in __next__\n    return self.next(*args, **kwargs)\n           ^^^^^^^^^^^^^^^^^^^^^^^^^^\n\n  File \"C:\\Users\\naresh\\AppData\\Local\\Packages\\PythonSoftwareFoundation.Python.3.11_qbz5n2kfra8p0\\LocalCache\\local-packages\\Python311\\site-packages\\keras\\src\\preprocessing\\image.py\", line 168, in next\n    return self._get_batches_of_transformed_samples(index_array)\n           ^^^^^^^^^^^^^^^^^^^^^^^^^^^^^^^^^^^^^^^^^^^^^^^^^^^^^\n\n  File \"C:\\Users\\naresh\\AppData\\Local\\Packages\\PythonSoftwareFoundation.Python.3.11_qbz5n2kfra8p0\\LocalCache\\local-packages\\Python311\\site-packages\\keras\\src\\preprocessing\\image.py\", line 370, in _get_batches_of_transformed_samples\n    img = image_utils.load_img(\n          ^^^^^^^^^^^^^^^^^^^^^\n\n  File \"C:\\Users\\naresh\\AppData\\Local\\Packages\\PythonSoftwareFoundation.Python.3.11_qbz5n2kfra8p0\\LocalCache\\local-packages\\Python311\\site-packages\\keras\\src\\utils\\image_utils.py\", line 422, in load_img\n    with open(path, \"rb\") as f:\n         ^^^^^^^^^^^^^^^^\n\nFileNotFoundError: [Errno 2] No such file or directory: 'W:\\\\Advanced Engineering\\\\Vortex Ballistics\\\\Gel Images\\\\Model Training\\\\01- train\\\\Input\\\\img\\\\IMG_00183_flipped.jpg'\n\n\n\t [[{{node PyFunc}}]]\n\t [[IteratorGetNext]] [Op:__inference_train_function_27883]"
     ]
    }
   ],
   "source": [
    "BATCH_SIZE = 64\n",
    "BUFFER_SIZE = 1000\n",
    "NUM_EPOCHS = 205\n",
    "\n",
    "TRAIN_LENGTH = 213\n",
    "#STEPS_PER_EPOCH = TRAIN_LENGTH // BATCH_SIZE\n",
    "STEPS_PER_EPOCH = 13\n",
    "\n",
    "VAL_SUBSPLITS = 5\n",
    "TEST_LENTH = 27\n",
    "#VALIDATION_STEPS = TEST_LENTH // BATCH_SIZE // VAL_SUBSPLITS\n",
    "VALIDATION_STEPS = 5\n",
    "\n",
    "model_history = unet_model.fit(train_generator,\n",
    "                               epochs=NUM_EPOCHS,\n",
    "                               steps_per_epoch=STEPS_PER_EPOCH,\n",
    "                               validation_steps=VALIDATION_STEPS,\n",
    "                               validation_data=test_generator,\n",
    "                               #callbacks=[es]\n",
    "                               )"
   ]
  },
  {
   "cell_type": "code",
   "execution_count": 101,
   "metadata": {},
   "outputs": [
    {
     "name": "stdout",
     "output_type": "stream",
     "text": [
      "1/1 [==============================] - 1s 911ms/step\n"
     ]
    }
   ],
   "source": [
    "testFile = \"W:\\Advanced Engineering\\Vortex Ballistics\\Gel Images\\Model Training\\\\test\\Inputs\\img\\IMG_0467.JPG\"\n",
    "testImg = image.load_img(testFile, color_mode='grayscale')\n",
    "testImg = np.expand_dims(testImg, axis=0)\n",
    "testImg = testImg/255\n",
    "testImg = testImg\n",
    "imOut = unet_model.predict(testImg)"
   ]
  },
  {
   "cell_type": "code",
   "execution_count": 102,
   "metadata": {},
   "outputs": [
    {
     "data": {
      "text/plain": [
       "<matplotlib.image.AxesImage at 0x1a1e03d6390>"
      ]
     },
     "execution_count": 102,
     "metadata": {},
     "output_type": "execute_result"
    },
    {
     "data": {
      "image/png": "[encoded data removed]",
      "text/plain": [
       "<Figure size 640x480 with 1 Axes>"
      ]
     },
     "metadata": {},
     "output_type": "display_data"
    }
   ],
   "source": [
    "plt.imshow(imOut.reshape(testImg.shape[1:]), cmap = 'gray')"
   ]
  },
  {
   "cell_type": "code",
   "execution_count": null,
   "metadata": {},
   "outputs": [],
   "source": []
  }
 ],
 "metadata": {
  "kernelspec": {
   "display_name": "Python 3",
   "language": "python",
   "name": "python3"
  },
  "language_info": {
   "codemirror_mode": {
    "name": "ipython",
    "version": 3
   },
   "file_extension": ".py",
   "mimetype": "text/x-python",
   "name": "python",
   "nbconvert_exporter": "python",
   "pygments_lexer": "ipython3",
   "version": "3.11.6"
  },
  "orig_nbformat": 4
 },
 "nbformat": 4,
 "nbformat_minor": 2
}
